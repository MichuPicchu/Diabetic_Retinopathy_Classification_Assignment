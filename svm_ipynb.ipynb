{
 "cells": [
  {
   "cell_type": "markdown",
   "metadata": {},
   "source": [
    "# SVM - Diabetic Retinopathy"
   ]
  },
  {
   "cell_type": "code",
   "execution_count": 1,
   "metadata": {},
   "outputs": [],
   "source": [
    "import numpy as np # linear algebra\n",
    "import pandas as pd # data processing, CSV file I/O (e.g. pd.read_csv)\n",
    "# io related\n",
    "# from skimage.io import imread\n",
    "import os\n",
    "from glob import glob\n",
    "import cv2\n",
    "from matplotlib import pyplot as plt\n",
    "import matplotlib \n",
    "from sklearn.model_selection import train_test_split\n",
    "from PIL import Image\n",
    "\n",
    "from torch.utils.data import DataLoader, Dataset\n",
    "import torchvision.transforms as T\n",
    "from torchvision.utils import make_grid\n",
    "from torchvision.utils import save_image\n",
    "\n",
    "from skimage import io, transform\n",
    "import torch\n",
    "from sklearn.metrics import precision_recall_fscore_support, accuracy_score, classification_report, confusion_matrix\n",
    "%matplotlib inline\n",
    "\n",
    "from sklearn.svm import SVC\n",
    "import torchvision.transforms as transforms"
   ]
  },
  {
   "cell_type": "code",
   "execution_count": 3,
   "metadata": {},
   "outputs": [],
   "source": [
    "def load_datasets(base_location = 'F:/UNSW/2022/T2_2022/COMP9417/Project/Data/train.zip.001/train'):\n",
    "\n",
    "    def severity_level(number):\n",
    "        if number in [0,1]:\n",
    "            return 1\n",
    "        if number == 2:\n",
    "            return 2\n",
    "        if number in [3,4]:\n",
    "            return 3\n",
    "    \n",
    "    training_data_name = \"train_1\"\n",
    "    train_data_dir = base_location + '/train'\n",
    "    train_label_file = base_location + '/trainLabels.csv'\n",
    "\n",
    "    # Load image mapping\n",
    "    retina_df = pd.read_csv(train_label_file)\n",
    "    # Get patient ID\n",
    "    retina_df['PatientId'] = retina_df['image'].map(lambda x: x.split('_')[0])\n",
    "    # Get image path\n",
    "    retina_df['path'] = retina_df['image'].map(lambda x: train_data_dir + '/' + x + '.jpeg')\n",
    "    # See if data exists in training data set\n",
    "    retina_df['exists'] = retina_df['path'].map(os.path.exists)\n",
    "    print(retina_df['exists'].sum(), 'images found of', retina_df.shape[0], 'total')\n",
    "\n",
    "    # Left right eye categorical variable\n",
    "    # 1 is left eye, 0 is right eye\n",
    "    retina_df['eye'] = retina_df['image'].map(lambda x: 1 if x.split('_')[-1]=='left' else 0)\n",
    "\n",
    "    # Remove NA, and keep only the 'existing' images \n",
    "    retina_df.dropna(inplace = True)\n",
    "    retina_df = retina_df[retina_df['exists']]\n",
    "    \n",
    "        #EDITTING HERE#\n",
    "    #retina_df['level'] = retina_df['level'].apply(lambda x: severity_level(x))\n",
    "\n",
    "    # Split traing and valid sets\n",
    "    rr_df = retina_df[['PatientId', 'level']].drop_duplicates()\n",
    "    \n",
    "    train_ids, valid_ids = train_test_split(rr_df['PatientId'], \n",
    "                                    test_size = 0.25, \n",
    "                                    #random_state = 2018,\n",
    "                                    stratify = rr_df['level'])\n",
    "                                    \n",
    "    raw_train_df = retina_df[retina_df['PatientId'].isin(train_ids)]\n",
    "    valid_df = retina_df[retina_df['PatientId'].isin(valid_ids)]\n",
    "    print('Pre-balance: train', raw_train_df.shape[0], 'validation', valid_df.shape[0])\n",
    "    \n",
    "    \n",
    "    # balance size variance in each class\n",
    "    #train_df = raw_train_df.groupby(['level', 'eye']).apply(lambda x: x.sample(75, replace = True)).reset_index(drop = True)                                                   \n",
    "    #print('Post-balance: train', train_df.shape[0], 'validation', valid_df.shape[0])\n",
    "\n",
    "    return raw_train_df, valid_df"
   ]
  },
  {
   "cell_type": "code",
   "execution_count": 4,
   "metadata": {},
   "outputs": [],
   "source": [
    "class retinaDataset(Dataset):\n",
    "\n",
    "    def __init__(self, transforms=None, image_size = 192):\n",
    "        'Initialization'\n",
    "        self.image_size = image_size\n",
    "        self.transforms = transforms        \n",
    "        self.train_df, self.valid_df = load_datasets()\n",
    "        \n",
    "        self.train_df.reset_index(drop = True, inplace = True)\n",
    "        self.valid_df.reset_index(drop = True, inplace = True)\n",
    "        \n",
    "    def __len__(self):\n",
    "        'Denotes the total number of samples'\n",
    "        return len(self.train_df)\n",
    "\n",
    "    def __getitem__(self, index):\n",
    "        'Generates one sample of data'\n",
    "        # Select sample\n",
    "        \n",
    "        img_path = self.train_df[\"path\"][index]\n",
    "        \n",
    "        # print(img_path)\n",
    "\n",
    "        img = Image.open(img_path)\n",
    "        \n",
    "        if self.transforms:\n",
    "            img = self.transforms(img)\n",
    "\n",
    "        return img, torch.tensor(self.train_df.iloc[index].level)\n",
    "    \n",
    "    def testLen(self):\n",
    "        return len(self.valid_df)\n",
    "    def getTest(self, index):\n",
    "        #gets test set \n",
    "        img_path = self.valid_df[\"path\"][index]\n",
    "        \n",
    "        img = Image.open(img_path)\n",
    "        \n",
    "        if(self.transforms):\n",
    "            img = self.transforms(img)\n",
    "\n",
    "        return img, torch.tensor(self.valid_df.iloc[index].level)"
   ]
  },
  {
   "cell_type": "code",
   "execution_count": 5,
   "metadata": {},
   "outputs": [],
   "source": [
    "def generate_results(model, xTrain, yTrain, xTest, yTest, train_flag = True):\n",
    "    num_dec_point = 3\n",
    "    #train_flag = True\n",
    "\n",
    "    # generate predictions\n",
    "    y_pred = model.predict(xTest)\n",
    "\n",
    "    if train_flag:\n",
    "        y_train_pred = model.predict(xTrain) \n",
    "        print('Model Training accuracy is: ', accuracy_score(yTrain, y_train_pred))\n",
    "\n",
    "    # calculate testing accuracy\n",
    "    accuracy = accuracy_score(yTest, y_pred)\n",
    "    print('Model Testing accuracy is: ', accuracy)\n",
    "\n",
    "    p_mic, r_mic, f1_mic, _ = precision_recall_fscore_support(yTest, \n",
    "                            y_pred,\n",
    "                            average='micro',\n",
    "                            warn_for=())\n",
    "    p_mac, r_mac, f1_mac, _ = precision_recall_fscore_support(yTest, \n",
    "                        y_pred,\n",
    "                        average='macro',\n",
    "                        warn_for=())\n",
    "    print('micro acc,prec,rec,f1: ',round(accuracy,num_dec_point), round(p_mic,num_dec_point), round(r_mic,num_dec_point), round(f1_mic,num_dec_point),sep=\"\\t\")\n",
    "    print('macro prec,rec,f1: ',round(p_mac,num_dec_point), round(r_mac,num_dec_point), round(f1_mac,num_dec_point),sep=\"\\t\")\n",
    "    print('Confusion Matrix is: ', confusion_matrix(yTest, y_pred))"
   ]
  },
  {
   "cell_type": "code",
   "execution_count": 7,
   "metadata": {},
   "outputs": [],
   "source": [
    "from sklearn.preprocessing import MinMaxScaler\n",
    "\n",
    "#works better if data is not gaussian distributed\n",
    "def normalisation(X_train, X_test):\n",
    "    norm = MinMaxScaler().fit(X_train)\n",
    "    X_train_norm = norm.transform(X_train)\n",
    "    X_test_norm = norm.transform(X_test)\n",
    "    return X_train, X_test"
   ]
  },
  {
   "cell_type": "code",
   "execution_count": 8,
   "metadata": {},
   "outputs": [
    {
     "name": "stdout",
     "output_type": "stream",
     "text": [
      "8408 images found of 35126 total\n",
      "Pre-balance: train 6518 validation 2318\n"
     ]
    }
   ],
   "source": [
    "image_size = 192\n",
    "\n",
    "my_transforms = transforms.Compose([\n",
    "    transforms.Resize((image_size,image_size)),\n",
    "    transforms.ToTensor(),\n",
    "])\n",
    "\n",
    "dataset = retinaDataset(transforms=my_transforms, image_size = image_size)"
   ]
  },
  {
   "cell_type": "code",
   "execution_count": 9,
   "metadata": {
    "scrolled": true
   },
   "outputs": [
    {
     "name": "stdout",
     "output_type": "stream",
     "text": [
      "training size:  6518 testing size:  2318\n",
      "0: train /6518\n",
      "10: train /6518\n",
      "20: train /6518\n",
      "30: train /6518\n",
      "40: train /6518\n",
      "50: train /6518\n",
      "60: train /6518\n",
      "70: train /6518\n",
      "80: train /6518\n",
      "90: train /6518\n",
      "100: train /6518\n",
      "110: train /6518\n",
      "120: train /6518\n",
      "130: train /6518\n",
      "140: train /6518\n",
      "150: train /6518\n",
      "160: train /6518\n",
      "170: train /6518\n",
      "180: train /6518\n",
      "190: train /6518\n",
      "200: train /6518\n",
      "210: train /6518\n",
      "220: train /6518\n",
      "230: train /6518\n",
      "240: train /6518\n",
      "250: train /6518\n",
      "260: train /6518\n",
      "270: train /6518\n",
      "280: train /6518\n",
      "290: train /6518\n",
      "300: train /6518\n",
      "310: train /6518\n",
      "320: train /6518\n",
      "330: train /6518\n",
      "340: train /6518\n",
      "350: train /6518\n",
      "360: train /6518\n",
      "370: train /6518\n",
      "380: train /6518\n",
      "390: train /6518\n",
      "400: train /6518\n",
      "410: train /6518\n",
      "420: train /6518\n",
      "430: train /6518\n",
      "440: train /6518\n",
      "450: train /6518\n",
      "460: train /6518\n",
      "470: train /6518\n",
      "480: train /6518\n",
      "490: train /6518\n",
      "500: train /6518\n",
      "510: train /6518\n",
      "520: train /6518\n",
      "530: train /6518\n",
      "540: train /6518\n",
      "550: train /6518\n",
      "560: train /6518\n",
      "570: train /6518\n",
      "580: train /6518\n",
      "590: train /6518\n",
      "600: train /6518\n",
      "610: train /6518\n",
      "620: train /6518\n",
      "630: train /6518\n",
      "640: train /6518\n",
      "650: train /6518\n",
      "660: train /6518\n",
      "670: train /6518\n",
      "680: train /6518\n",
      "690: train /6518\n",
      "700: train /6518\n",
      "710: train /6518\n",
      "720: train /6518\n",
      "730: train /6518\n",
      "740: train /6518\n",
      "750: train /6518\n",
      "760: train /6518\n",
      "770: train /6518\n",
      "780: train /6518\n",
      "790: train /6518\n",
      "800: train /6518\n",
      "810: train /6518\n",
      "820: train /6518\n",
      "830: train /6518\n",
      "840: train /6518\n",
      "850: train /6518\n",
      "860: train /6518\n",
      "870: train /6518\n",
      "880: train /6518\n",
      "890: train /6518\n",
      "900: train /6518\n",
      "910: train /6518\n",
      "920: train /6518\n",
      "930: train /6518\n",
      "940: train /6518\n",
      "950: train /6518\n",
      "960: train /6518\n",
      "970: train /6518\n",
      "980: train /6518\n",
      "990: train /6518\n",
      "1000: train /6518\n",
      "1010: train /6518\n",
      "1020: train /6518\n",
      "1030: train /6518\n",
      "1040: train /6518\n",
      "1050: train /6518\n",
      "1060: train /6518\n",
      "1070: train /6518\n",
      "1080: train /6518\n",
      "1090: train /6518\n",
      "1100: train /6518\n",
      "1110: train /6518\n",
      "1120: train /6518\n",
      "1130: train /6518\n",
      "1140: train /6518\n",
      "1150: train /6518\n",
      "1160: train /6518\n",
      "1170: train /6518\n",
      "1180: train /6518\n",
      "1190: train /6518\n",
      "1200: train /6518\n",
      "1210: train /6518\n",
      "1220: train /6518\n",
      "1230: train /6518\n",
      "1240: train /6518\n",
      "1250: train /6518\n",
      "1260: train /6518\n",
      "1270: train /6518\n",
      "1280: train /6518\n",
      "1290: train /6518\n",
      "1300: train /6518\n",
      "1310: train /6518\n",
      "1320: train /6518\n",
      "1330: train /6518\n",
      "1340: train /6518\n",
      "1350: train /6518\n",
      "1360: train /6518\n",
      "1370: train /6518\n",
      "1380: train /6518\n",
      "1390: train /6518\n",
      "1400: train /6518\n",
      "1410: train /6518\n",
      "1420: train /6518\n",
      "1430: train /6518\n",
      "1440: train /6518\n",
      "1450: train /6518\n",
      "1460: train /6518\n",
      "1470: train /6518\n",
      "1480: train /6518\n",
      "1490: train /6518\n",
      "1500: train /6518\n",
      "1510: train /6518\n",
      "1520: train /6518\n",
      "1530: train /6518\n",
      "1540: train /6518\n",
      "1550: train /6518\n",
      "1560: train /6518\n",
      "1570: train /6518\n",
      "1580: train /6518\n",
      "1590: train /6518\n",
      "1600: train /6518\n",
      "1610: train /6518\n",
      "1620: train /6518\n",
      "1630: train /6518\n",
      "1640: train /6518\n",
      "1650: train /6518\n",
      "1660: train /6518\n",
      "1670: train /6518\n",
      "1680: train /6518\n",
      "1690: train /6518\n",
      "1700: train /6518\n",
      "1710: train /6518\n",
      "1720: train /6518\n",
      "1730: train /6518\n",
      "1740: train /6518\n",
      "1750: train /6518\n",
      "1760: train /6518\n",
      "1770: train /6518\n",
      "1780: train /6518\n",
      "1790: train /6518\n",
      "1800: train /6518\n",
      "1810: train /6518\n",
      "1820: train /6518\n",
      "1830: train /6518\n",
      "1840: train /6518\n",
      "1850: train /6518\n",
      "1860: train /6518\n",
      "1870: train /6518\n",
      "1880: train /6518\n",
      "1890: train /6518\n",
      "1900: train /6518\n",
      "1910: train /6518\n",
      "1920: train /6518\n",
      "1930: train /6518\n",
      "1940: train /6518\n",
      "1950: train /6518\n",
      "1960: train /6518\n",
      "1970: train /6518\n",
      "1980: train /6518\n",
      "1990: train /6518\n",
      "2000: train /6518\n",
      "2010: train /6518\n",
      "2020: train /6518\n",
      "2030: train /6518\n",
      "2040: train /6518\n",
      "2050: train /6518\n",
      "2060: train /6518\n",
      "2070: train /6518\n",
      "2080: train /6518\n",
      "2090: train /6518\n",
      "2100: train /6518\n",
      "2110: train /6518\n",
      "2120: train /6518\n",
      "2130: train /6518\n",
      "2140: train /6518\n",
      "2150: train /6518\n",
      "2160: train /6518\n",
      "2170: train /6518\n",
      "2180: train /6518\n",
      "2190: train /6518\n",
      "2200: train /6518\n",
      "2210: train /6518\n",
      "2220: train /6518\n",
      "2230: train /6518\n",
      "2240: train /6518\n",
      "2250: train /6518\n",
      "2260: train /6518\n",
      "2270: train /6518\n",
      "2280: train /6518\n",
      "2290: train /6518\n",
      "2300: train /6518\n",
      "2310: train /6518\n",
      "2320: train /6518\n",
      "2330: train /6518\n",
      "2340: train /6518\n",
      "2350: train /6518\n",
      "2360: train /6518\n",
      "2370: train /6518\n",
      "2380: train /6518\n",
      "2390: train /6518\n",
      "2400: train /6518\n",
      "2410: train /6518\n",
      "2420: train /6518\n",
      "2430: train /6518\n",
      "2440: train /6518\n",
      "2450: train /6518\n",
      "2460: train /6518\n",
      "2470: train /6518\n",
      "2480: train /6518\n",
      "2490: train /6518\n",
      "2500: train /6518\n",
      "2510: train /6518\n",
      "2520: train /6518\n",
      "2530: train /6518\n",
      "2540: train /6518\n",
      "2550: train /6518\n",
      "2560: train /6518\n",
      "2570: train /6518\n",
      "2580: train /6518\n",
      "2590: train /6518\n",
      "2600: train /6518\n",
      "2610: train /6518\n",
      "2620: train /6518\n",
      "2630: train /6518\n",
      "2640: train /6518\n",
      "2650: train /6518\n",
      "2660: train /6518\n",
      "2670: train /6518\n",
      "2680: train /6518\n",
      "2690: train /6518\n",
      "2700: train /6518\n",
      "2710: train /6518\n",
      "2720: train /6518\n",
      "2730: train /6518\n",
      "2740: train /6518\n",
      "2750: train /6518\n",
      "2760: train /6518\n",
      "2770: train /6518\n",
      "2780: train /6518\n",
      "2790: train /6518\n",
      "2800: train /6518\n",
      "2810: train /6518\n",
      "2820: train /6518\n",
      "2830: train /6518\n",
      "2840: train /6518\n",
      "2850: train /6518\n",
      "2860: train /6518\n",
      "2870: train /6518\n",
      "2880: train /6518\n",
      "2890: train /6518\n",
      "2900: train /6518\n",
      "2910: train /6518\n",
      "2920: train /6518\n",
      "2930: train /6518\n",
      "2940: train /6518\n",
      "2950: train /6518\n",
      "2960: train /6518\n",
      "2970: train /6518\n",
      "2980: train /6518\n",
      "2990: train /6518\n",
      "3000: train /6518\n",
      "3010: train /6518\n",
      "3020: train /6518\n",
      "3030: train /6518\n",
      "3040: train /6518\n",
      "3050: train /6518\n",
      "3060: train /6518\n",
      "3070: train /6518\n",
      "3080: train /6518\n",
      "3090: train /6518\n",
      "3100: train /6518\n",
      "3110: train /6518\n",
      "3120: train /6518\n",
      "3130: train /6518\n",
      "3140: train /6518\n",
      "3150: train /6518\n",
      "3160: train /6518\n",
      "3170: train /6518\n",
      "3180: train /6518\n",
      "3190: train /6518\n",
      "3200: train /6518\n",
      "3210: train /6518\n",
      "3220: train /6518\n",
      "3230: train /6518\n",
      "3240: train /6518\n",
      "3250: train /6518\n",
      "3260: train /6518\n",
      "3270: train /6518\n",
      "3280: train /6518\n",
      "3290: train /6518\n",
      "3300: train /6518\n",
      "3310: train /6518\n",
      "3320: train /6518\n",
      "3330: train /6518\n",
      "3340: train /6518\n",
      "3350: train /6518\n",
      "3360: train /6518\n",
      "3370: train /6518\n",
      "3380: train /6518\n",
      "3390: train /6518\n",
      "3400: train /6518\n",
      "3410: train /6518\n",
      "3420: train /6518\n",
      "3430: train /6518\n",
      "3440: train /6518\n",
      "3450: train /6518\n",
      "3460: train /6518\n",
      "3470: train /6518\n",
      "3480: train /6518\n",
      "3490: train /6518\n",
      "3500: train /6518\n",
      "3510: train /6518\n",
      "3520: train /6518\n",
      "3530: train /6518\n",
      "3540: train /6518\n",
      "3550: train /6518\n",
      "3560: train /6518\n",
      "3570: train /6518\n",
      "3580: train /6518\n",
      "3590: train /6518\n",
      "3600: train /6518\n",
      "3610: train /6518\n",
      "3620: train /6518\n",
      "3630: train /6518\n",
      "3640: train /6518\n",
      "3650: train /6518\n",
      "3660: train /6518\n",
      "3670: train /6518\n",
      "3680: train /6518\n",
      "3690: train /6518\n",
      "3700: train /6518\n",
      "3710: train /6518\n",
      "3720: train /6518\n",
      "3730: train /6518\n",
      "3740: train /6518\n",
      "3750: train /6518\n",
      "3760: train /6518\n",
      "3770: train /6518\n",
      "3780: train /6518\n",
      "3790: train /6518\n",
      "3800: train /6518\n",
      "3810: train /6518\n",
      "3820: train /6518\n",
      "3830: train /6518\n",
      "3840: train /6518\n",
      "3850: train /6518\n",
      "3860: train /6518\n",
      "3870: train /6518\n",
      "3880: train /6518\n",
      "3890: train /6518\n",
      "3900: train /6518\n",
      "3910: train /6518\n",
      "3920: train /6518\n",
      "3930: train /6518\n",
      "3940: train /6518\n",
      "3950: train /6518\n",
      "3960: train /6518\n",
      "3970: train /6518\n",
      "3980: train /6518\n",
      "3990: train /6518\n",
      "4000: train /6518\n",
      "4010: train /6518\n",
      "4020: train /6518\n",
      "4030: train /6518\n",
      "4040: train /6518\n",
      "4050: train /6518\n",
      "4060: train /6518\n",
      "4070: train /6518\n",
      "4080: train /6518\n",
      "4090: train /6518\n",
      "4100: train /6518\n",
      "4110: train /6518\n",
      "4120: train /6518\n",
      "4130: train /6518\n",
      "4140: train /6518\n",
      "4150: train /6518\n",
      "4160: train /6518\n",
      "4170: train /6518\n",
      "4180: train /6518\n",
      "4190: train /6518\n",
      "4200: train /6518\n",
      "4210: train /6518\n",
      "4220: train /6518\n",
      "4230: train /6518\n",
      "4240: train /6518\n",
      "4250: train /6518\n",
      "4260: train /6518\n",
      "4270: train /6518\n",
      "4280: train /6518\n",
      "4290: train /6518\n",
      "4300: train /6518\n",
      "4310: train /6518\n",
      "4320: train /6518\n",
      "4330: train /6518\n",
      "4340: train /6518\n",
      "4350: train /6518\n",
      "4360: train /6518\n",
      "4370: train /6518\n",
      "4380: train /6518\n",
      "4390: train /6518\n",
      "4400: train /6518\n",
      "4410: train /6518\n",
      "4420: train /6518\n",
      "4430: train /6518\n",
      "4440: train /6518\n",
      "4450: train /6518\n",
      "4460: train /6518\n",
      "4470: train /6518\n",
      "4480: train /6518\n",
      "4490: train /6518\n",
      "4500: train /6518\n",
      "4510: train /6518\n",
      "4520: train /6518\n",
      "4530: train /6518\n",
      "4540: train /6518\n",
      "4550: train /6518\n",
      "4560: train /6518\n",
      "4570: train /6518\n",
      "4580: train /6518\n",
      "4590: train /6518\n"
     ]
    },
    {
     "name": "stdout",
     "output_type": "stream",
     "text": [
      "4600: train /6518\n",
      "4610: train /6518\n",
      "4620: train /6518\n",
      "4630: train /6518\n",
      "4640: train /6518\n",
      "4650: train /6518\n",
      "4660: train /6518\n",
      "4670: train /6518\n",
      "4680: train /6518\n",
      "4690: train /6518\n",
      "4700: train /6518\n",
      "4710: train /6518\n",
      "4720: train /6518\n",
      "4730: train /6518\n",
      "4740: train /6518\n",
      "4750: train /6518\n",
      "4760: train /6518\n",
      "4770: train /6518\n",
      "4780: train /6518\n",
      "4790: train /6518\n",
      "4800: train /6518\n",
      "4810: train /6518\n",
      "4820: train /6518\n",
      "4830: train /6518\n",
      "4840: train /6518\n",
      "4850: train /6518\n",
      "4860: train /6518\n",
      "4870: train /6518\n",
      "4880: train /6518\n",
      "4890: train /6518\n",
      "4900: train /6518\n",
      "4910: train /6518\n",
      "4920: train /6518\n",
      "4930: train /6518\n",
      "4940: train /6518\n",
      "4950: train /6518\n",
      "4960: train /6518\n",
      "4970: train /6518\n",
      "4980: train /6518\n",
      "4990: train /6518\n",
      "5000: train /6518\n",
      "5010: train /6518\n",
      "5020: train /6518\n",
      "5030: train /6518\n",
      "5040: train /6518\n",
      "5050: train /6518\n",
      "5060: train /6518\n",
      "5070: train /6518\n",
      "5080: train /6518\n",
      "5090: train /6518\n",
      "5100: train /6518\n",
      "5110: train /6518\n",
      "5120: train /6518\n",
      "5130: train /6518\n",
      "5140: train /6518\n",
      "5150: train /6518\n",
      "5160: train /6518\n",
      "5170: train /6518\n",
      "5180: train /6518\n",
      "5190: train /6518\n",
      "5200: train /6518\n",
      "5210: train /6518\n",
      "5220: train /6518\n",
      "5230: train /6518\n",
      "5240: train /6518\n",
      "5250: train /6518\n",
      "5260: train /6518\n",
      "5270: train /6518\n",
      "5280: train /6518\n",
      "5290: train /6518\n",
      "5300: train /6518\n",
      "5310: train /6518\n",
      "5320: train /6518\n",
      "5330: train /6518\n",
      "5340: train /6518\n",
      "5350: train /6518\n",
      "5360: train /6518\n",
      "5370: train /6518\n",
      "5380: train /6518\n",
      "5390: train /6518\n",
      "5400: train /6518\n",
      "5410: train /6518\n",
      "5420: train /6518\n",
      "5430: train /6518\n",
      "5440: train /6518\n",
      "5450: train /6518\n",
      "5460: train /6518\n",
      "5470: train /6518\n",
      "5480: train /6518\n",
      "5490: train /6518\n",
      "5500: train /6518\n",
      "5510: train /6518\n",
      "5520: train /6518\n",
      "5530: train /6518\n",
      "5540: train /6518\n",
      "5550: train /6518\n",
      "5560: train /6518\n",
      "5570: train /6518\n",
      "5580: train /6518\n",
      "5590: train /6518\n",
      "5600: train /6518\n",
      "5610: train /6518\n",
      "5620: train /6518\n",
      "5630: train /6518\n",
      "5640: train /6518\n",
      "5650: train /6518\n",
      "5660: train /6518\n",
      "5670: train /6518\n",
      "5680: train /6518\n",
      "5690: train /6518\n",
      "5700: train /6518\n",
      "5710: train /6518\n",
      "5720: train /6518\n",
      "5730: train /6518\n",
      "5740: train /6518\n",
      "5750: train /6518\n",
      "5760: train /6518\n",
      "5770: train /6518\n",
      "5780: train /6518\n",
      "5790: train /6518\n",
      "5800: train /6518\n",
      "5810: train /6518\n",
      "5820: train /6518\n",
      "5830: train /6518\n",
      "5840: train /6518\n",
      "5850: train /6518\n",
      "5860: train /6518\n",
      "5870: train /6518\n",
      "5880: train /6518\n",
      "5890: train /6518\n",
      "5900: train /6518\n",
      "5910: train /6518\n",
      "5920: train /6518\n",
      "5930: train /6518\n",
      "5940: train /6518\n",
      "5950: train /6518\n",
      "5960: train /6518\n",
      "5970: train /6518\n",
      "5980: train /6518\n",
      "5990: train /6518\n",
      "6000: train /6518\n",
      "6010: train /6518\n",
      "6020: train /6518\n",
      "6030: train /6518\n",
      "6040: train /6518\n",
      "6050: train /6518\n",
      "6060: train /6518\n",
      "6070: train /6518\n",
      "6080: train /6518\n",
      "6090: train /6518\n",
      "6100: train /6518\n",
      "6110: train /6518\n",
      "6120: train /6518\n",
      "6130: train /6518\n",
      "6140: train /6518\n",
      "6150: train /6518\n",
      "6160: train /6518\n",
      "6170: train /6518\n",
      "6180: train /6518\n",
      "6190: train /6518\n",
      "6200: train /6518\n",
      "6210: train /6518\n",
      "6220: train /6518\n",
      "6230: train /6518\n",
      "6240: train /6518\n",
      "6250: train /6518\n",
      "6260: train /6518\n",
      "6270: train /6518\n",
      "6280: train /6518\n",
      "6290: train /6518\n",
      "6300: train /6518\n",
      "6310: train /6518\n",
      "6320: train /6518\n",
      "6330: train /6518\n",
      "6340: train /6518\n",
      "6350: train /6518\n",
      "6360: train /6518\n",
      "6370: train /6518\n",
      "6380: train /6518\n",
      "6390: train /6518\n",
      "6400: train /6518\n",
      "6410: train /6518\n",
      "6420: train /6518\n",
      "6430: train /6518\n",
      "6440: train /6518\n",
      "6450: train /6518\n",
      "6460: train /6518\n",
      "6470: train /6518\n",
      "6480: train /6518\n",
      "6490: train /6518\n",
      "6500: train /6518\n",
      "6510: train /6518\n",
      "0: test /2318\n",
      "10: test /2318\n",
      "20: test /2318\n",
      "30: test /2318\n",
      "40: test /2318\n",
      "50: test /2318\n",
      "60: test /2318\n",
      "70: test /2318\n",
      "80: test /2318\n",
      "90: test /2318\n",
      "100: test /2318\n",
      "110: test /2318\n",
      "120: test /2318\n",
      "130: test /2318\n",
      "140: test /2318\n",
      "150: test /2318\n",
      "160: test /2318\n",
      "170: test /2318\n",
      "180: test /2318\n",
      "190: test /2318\n",
      "200: test /2318\n",
      "210: test /2318\n",
      "220: test /2318\n",
      "230: test /2318\n",
      "240: test /2318\n",
      "250: test /2318\n",
      "260: test /2318\n",
      "270: test /2318\n",
      "280: test /2318\n",
      "290: test /2318\n",
      "300: test /2318\n",
      "310: test /2318\n",
      "320: test /2318\n",
      "330: test /2318\n",
      "340: test /2318\n",
      "350: test /2318\n",
      "360: test /2318\n",
      "370: test /2318\n",
      "380: test /2318\n",
      "390: test /2318\n",
      "400: test /2318\n",
      "410: test /2318\n",
      "420: test /2318\n",
      "430: test /2318\n",
      "440: test /2318\n",
      "450: test /2318\n",
      "460: test /2318\n",
      "470: test /2318\n",
      "480: test /2318\n",
      "490: test /2318\n",
      "500: test /2318\n",
      "510: test /2318\n",
      "520: test /2318\n",
      "530: test /2318\n",
      "540: test /2318\n",
      "550: test /2318\n",
      "560: test /2318\n",
      "570: test /2318\n",
      "580: test /2318\n",
      "590: test /2318\n",
      "600: test /2318\n",
      "610: test /2318\n",
      "620: test /2318\n",
      "630: test /2318\n",
      "640: test /2318\n",
      "650: test /2318\n",
      "660: test /2318\n",
      "670: test /2318\n",
      "680: test /2318\n",
      "690: test /2318\n",
      "700: test /2318\n",
      "710: test /2318\n",
      "720: test /2318\n",
      "730: test /2318\n",
      "740: test /2318\n",
      "750: test /2318\n",
      "760: test /2318\n",
      "770: test /2318\n",
      "780: test /2318\n",
      "790: test /2318\n",
      "800: test /2318\n",
      "810: test /2318\n",
      "820: test /2318\n",
      "830: test /2318\n",
      "840: test /2318\n",
      "850: test /2318\n",
      "860: test /2318\n",
      "870: test /2318\n",
      "880: test /2318\n",
      "890: test /2318\n",
      "900: test /2318\n",
      "910: test /2318\n",
      "920: test /2318\n",
      "930: test /2318\n",
      "940: test /2318\n",
      "950: test /2318\n",
      "960: test /2318\n",
      "970: test /2318\n",
      "980: test /2318\n",
      "990: test /2318\n",
      "1000: test /2318\n",
      "1010: test /2318\n",
      "1020: test /2318\n",
      "1030: test /2318\n",
      "1040: test /2318\n",
      "1050: test /2318\n",
      "1060: test /2318\n",
      "1070: test /2318\n",
      "1080: test /2318\n",
      "1090: test /2318\n",
      "1100: test /2318\n",
      "1110: test /2318\n",
      "1120: test /2318\n",
      "1130: test /2318\n",
      "1140: test /2318\n",
      "1150: test /2318\n",
      "1160: test /2318\n",
      "1170: test /2318\n",
      "1180: test /2318\n",
      "1190: test /2318\n",
      "1200: test /2318\n",
      "1210: test /2318\n",
      "1220: test /2318\n",
      "1230: test /2318\n",
      "1240: test /2318\n",
      "1250: test /2318\n",
      "1260: test /2318\n",
      "1270: test /2318\n",
      "1280: test /2318\n",
      "1290: test /2318\n",
      "1300: test /2318\n",
      "1310: test /2318\n",
      "1320: test /2318\n",
      "1330: test /2318\n",
      "1340: test /2318\n",
      "1350: test /2318\n",
      "1360: test /2318\n",
      "1370: test /2318\n",
      "1380: test /2318\n",
      "1390: test /2318\n",
      "1400: test /2318\n",
      "1410: test /2318\n",
      "1420: test /2318\n",
      "1430: test /2318\n",
      "1440: test /2318\n",
      "1450: test /2318\n",
      "1460: test /2318\n",
      "1470: test /2318\n",
      "1480: test /2318\n",
      "1490: test /2318\n",
      "1500: test /2318\n",
      "1510: test /2318\n",
      "1520: test /2318\n",
      "1530: test /2318\n",
      "1540: test /2318\n",
      "1550: test /2318\n",
      "1560: test /2318\n",
      "1570: test /2318\n",
      "1580: test /2318\n",
      "1590: test /2318\n",
      "1600: test /2318\n",
      "1610: test /2318\n",
      "1620: test /2318\n",
      "1630: test /2318\n",
      "1640: test /2318\n",
      "1650: test /2318\n",
      "1660: test /2318\n",
      "1670: test /2318\n",
      "1680: test /2318\n",
      "1690: test /2318\n",
      "1700: test /2318\n",
      "1710: test /2318\n",
      "1720: test /2318\n",
      "1730: test /2318\n",
      "1740: test /2318\n",
      "1750: test /2318\n",
      "1760: test /2318\n",
      "1770: test /2318\n",
      "1780: test /2318\n",
      "1790: test /2318\n",
      "1800: test /2318\n",
      "1810: test /2318\n",
      "1820: test /2318\n",
      "1830: test /2318\n",
      "1840: test /2318\n",
      "1850: test /2318\n",
      "1860: test /2318\n",
      "1870: test /2318\n",
      "1880: test /2318\n",
      "1890: test /2318\n",
      "1900: test /2318\n",
      "1910: test /2318\n",
      "1920: test /2318\n",
      "1930: test /2318\n",
      "1940: test /2318\n",
      "1950: test /2318\n",
      "1960: test /2318\n",
      "1970: test /2318\n",
      "1980: test /2318\n",
      "1990: test /2318\n",
      "2000: test /2318\n",
      "2010: test /2318\n",
      "2020: test /2318\n",
      "2030: test /2318\n",
      "2040: test /2318\n",
      "2050: test /2318\n",
      "2060: test /2318\n",
      "2070: test /2318\n",
      "2080: test /2318\n",
      "2090: test /2318\n",
      "2100: test /2318\n",
      "2110: test /2318\n",
      "2120: test /2318\n",
      "2130: test /2318\n",
      "2140: test /2318\n",
      "2150: test /2318\n",
      "2160: test /2318\n",
      "2170: test /2318\n",
      "2180: test /2318\n",
      "2190: test /2318\n",
      "2200: test /2318\n",
      "2210: test /2318\n",
      "2220: test /2318\n",
      "2230: test /2318\n",
      "2240: test /2318\n",
      "2250: test /2318\n",
      "2260: test /2318\n",
      "2270: test /2318\n",
      "2280: test /2318\n",
      "2290: test /2318\n",
      "2300: test /2318\n",
      "2310: test /2318\n",
      "normalising\n",
      "Completed.\n"
     ]
    }
   ],
   "source": [
    "dataset_flag = True  #'''getting all of the train_df into xTrain and valid_df into xTest'''\n",
    "\n",
    "#shuffle dataset\n",
    "import random\n",
    "\n",
    "if dataset_flag == False:\n",
    "    n = 6000 #number of total datasets\n",
    "    ratio = 0.8 #training:testing\n",
    "    #total = random.sample(range(len(dataset)), n)\n",
    "    training_number = int(n * ratio)\n",
    "    testing_number = n - training_number\n",
    "    \n",
    "    training_items = random.sample(range(len(dataset)), training_number)\n",
    "    testing_items = random.sample(range(dataset.testLen()), testing_number)\n",
    "    print('training size: ', training_number, 'testing size: ', testing_number)\n",
    "else:\n",
    "    from PIL import ImageFile\n",
    "    ImageFile.LOAD_TRUNCATED_IMAGES = True\n",
    "    training_items = random.sample(range(len(dataset)), len(dataset))\n",
    "    testing_items = random.sample(range(dataset.testLen()), dataset.testLen())\n",
    "    print('training size: ', len(training_items), 'testing size: ', len(testing_items))\n",
    "\n",
    "xTrain = []\n",
    "yTrain = []\n",
    "xTest = []\n",
    "yTest = []\n",
    "\n",
    "# Populate xTrain yTrain\n",
    "for index, i in enumerate(training_items):\n",
    "    if index % 10 == 0:\n",
    "        print(str(index) + ': train /' + str(len(training_items)))\n",
    "    item, label = dataset.__getitem__(i)\n",
    "    oneD = item.flatten()\n",
    "    xTrain.append(oneD)\n",
    "    # Append labels\n",
    "    yTrain.append(label)\n",
    "    \n",
    "# Populate xTest yTest\n",
    "for index, i in enumerate(testing_items):\n",
    "    if index % 10 == 0:\n",
    "        print(str(index) + ': test /' + str(len(testing_items)))\n",
    "    item, label = dataset.getTest(i)\n",
    "    oneD = item.flatten()\n",
    "    # Append flatten image matrix\n",
    "    xTest.append(oneD)\n",
    "    # Append labels\n",
    "    yTest.append(label) \n",
    "    \n",
    "xTrain = np.vstack(xTrain)\n",
    "yTrain = np.array(yTrain)\n",
    "xTest = np.vstack(xTest)\n",
    "yTest = np.array(yTest)\n",
    "\n",
    "print('normalising')\n",
    "xTrain, xTest = normalisation(xTrain, xTest) #normalisation\n",
    "\n",
    "print('Completed.')"
   ]
  },
  {
   "cell_type": "markdown",
   "metadata": {},
   "source": [
    "## Fitting and Predicting SVM model"
   ]
  },
  {
   "cell_type": "markdown",
   "metadata": {},
   "source": [
    "### 26/7/2022 - Best model"
   ]
  },
  {
   "cell_type": "markdown",
   "metadata": {},
   "source": [
    "with 5 classes, and 6486, 2310 different gamma - with normalization, no class balance"
   ]
  },
  {
   "cell_type": "code",
   "execution_count": 10,
   "metadata": {},
   "outputs": [
    {
     "name": "stdout",
     "output_type": "stream",
     "text": [
      "SVC(C=0.1, break_ties=False, cache_size=200, class_weight=None, coef0=0.0,\n",
      "    decision_function_shape='ovr', degree=3, gamma='auto', kernel='linear',\n",
      "    max_iter=-1, probability=False, random_state=None, shrinking=True,\n",
      "    tol=0.001, verbose=False)\n",
      "Model Training accuracy is:  0.9367904265111997\n",
      "Model Testing accuracy is:  0.7359792924935289\n",
      "micro acc,prec,rec,f1: \t0.736\t0.736\t0.736\t0.736\n",
      "macro prec,rec,f1: \t0.659\t0.479\t0.538\n",
      "Confusion Matrix is:  [[1446   42  109    6   12]\n",
      " [ 106   90    5    0    0]\n",
      " [ 245    8  127    0    2]\n",
      " [  36    2    4   19    1]\n",
      " [  31    1    2    0   24]]\n"
     ]
    }
   ],
   "source": [
    "svm = SVC(kernel='linear', C=0.1, gamma='auto', probability=False) #faster when probability = False\n",
    "\n",
    "# fit model\n",
    "svm.fit(xTrain, yTrain)\n",
    "print(svm)\n",
    "generate_results(svm, xTrain, yTrain, xTest, yTest, train_flag = True)"
   ]
  },
  {
   "cell_type": "code",
   "execution_count": 12,
   "metadata": {},
   "outputs": [],
   "source": [
    "import pickle\n",
    "\n",
    "# save\n",
    "with open('model.pkl','wb') as f:\n",
    "    pickle.dump(svm, f, protocol=4)\n",
    "\n"
   ]
  },
  {
   "cell_type": "code",
   "execution_count": null,
   "metadata": {},
   "outputs": [],
   "source": []
  },
  {
   "cell_type": "markdown",
   "metadata": {},
   "source": [
    "### 25/7/2022"
   ]
  },
  {
   "cell_type": "markdown",
   "metadata": {},
   "source": [
    "with 5 classes, and 2800, 700 different gamma - with normalization, no class balance"
   ]
  },
  {
   "cell_type": "code",
   "execution_count": 40,
   "metadata": {},
   "outputs": [
    {
     "name": "stdout",
     "output_type": "stream",
     "text": [
      "SVC(C=0.1, break_ties=False, cache_size=200, class_weight=None, coef0=0.0,\n",
      "    decision_function_shape='ovr', degree=3, gamma='auto', kernel='rbf',\n",
      "    max_iter=-1, probability=False, random_state=None, shrinking=True,\n",
      "    tol=0.001, verbose=False)\n",
      "Model Training accuracy is:  0.7207142857142858\n",
      "Model Testing accuracy is:  0.6857142857142857\n",
      "micro acc,prec,rec,f1: \t0.686\t0.686\t0.686\t0.686\n",
      "macro prec,rec,f1: \t0.137\t0.2\t0.163\n",
      "Confusion Matrix is:  [[480   0   0   0   0]\n",
      " [ 67   0   0   0   0]\n",
      " [128   0   0   0   0]\n",
      " [ 15   0   0   0   0]\n",
      " [ 10   0   0   0   0]]\n"
     ]
    }
   ],
   "source": [
    "svm = SVC(kernel='rbf', C=0.1, gamma='auto', probability=False) #faster when probability = False\n",
    "\n",
    "# fit model\n",
    "svm.fit(xTrain, yTrain)\n",
    "print(svm)\n",
    "generate_results(svm, xTrain, yTrain, xTest, yTest, train_flag = True)"
   ]
  },
  {
   "cell_type": "code",
   "execution_count": 41,
   "metadata": {},
   "outputs": [
    {
     "name": "stdout",
     "output_type": "stream",
     "text": [
      "SVC(C=0.1, break_ties=False, cache_size=200, class_weight=None, coef0=0.0,\n",
      "    decision_function_shape='ovr', degree=3, gamma='auto', kernel='poly',\n",
      "    max_iter=-1, probability=False, random_state=None, shrinking=True,\n",
      "    tol=0.001, verbose=False)\n",
      "Model Training accuracy is:  0.7207142857142858\n",
      "Model Testing accuracy is:  0.6857142857142857\n",
      "micro acc,prec,rec,f1: \t0.686\t0.686\t0.686\t0.686\n",
      "macro prec,rec,f1: \t0.137\t0.2\t0.163\n",
      "Confusion Matrix is:  [[480   0   0   0   0]\n",
      " [ 67   0   0   0   0]\n",
      " [128   0   0   0   0]\n",
      " [ 15   0   0   0   0]\n",
      " [ 10   0   0   0   0]]\n"
     ]
    }
   ],
   "source": [
    "svm = SVC(kernel='poly', C=0.1, gamma='auto', probability=False) #faster when probability = False\n",
    "\n",
    "# fit model\n",
    "svm.fit(xTrain, yTrain)\n",
    "print(svm)\n",
    "generate_results(svm, xTrain, yTrain, xTest, yTest, train_flag = True)"
   ]
  },
  {
   "cell_type": "code",
   "execution_count": 42,
   "metadata": {},
   "outputs": [
    {
     "name": "stdout",
     "output_type": "stream",
     "text": [
      "SVC(C=0.1, break_ties=False, cache_size=200, class_weight=None, coef0=0.0,\n",
      "    decision_function_shape='ovr', degree=3, gamma='auto', kernel='linear',\n",
      "    max_iter=-1, probability=False, random_state=None, shrinking=True,\n",
      "    tol=0.001, verbose=False)\n",
      "Model Training accuracy is:  0.9757142857142858\n",
      "Model Testing accuracy is:  0.6742857142857143\n",
      "micro acc,prec,rec,f1: \t0.674\t0.674\t0.674\t0.674\n",
      "macro prec,rec,f1: \t0.477\t0.37\t0.402\n",
      "Confusion Matrix is:  [[424   9  38   5   4]\n",
      " [ 46  16   5   0   0]\n",
      " [ 97   5  25   1   0]\n",
      " [ 10   0   0   5   0]\n",
      " [  6   2   0   0   2]]\n"
     ]
    }
   ],
   "source": [
    "svm = SVC(kernel='linear', C=0.1, gamma='auto', probability=False) #faster when probability = False\n",
    "\n",
    "# fit model\n",
    "svm.fit(xTrain, yTrain)\n",
    "print(svm)\n",
    "generate_results(svm, xTrain, yTrain, xTest, yTest, train_flag = True)"
   ]
  },
  {
   "cell_type": "markdown",
   "metadata": {},
   "source": [
    "with 5 classes, and 720, 180, different gamma - with normalization"
   ]
  },
  {
   "cell_type": "code",
   "execution_count": 17,
   "metadata": {},
   "outputs": [
    {
     "name": "stdout",
     "output_type": "stream",
     "text": [
      "SVC(C=0.1, break_ties=False, cache_size=200, class_weight='balanced', coef0=0.0,\n",
      "    decision_function_shape='ovr', degree=3, gamma=1.0, kernel='linear',\n",
      "    max_iter=-1, probability=False, random_state=None, shrinking=True,\n",
      "    tol=0.001, verbose=False)\n",
      "Model Training accuracy is:  0.9944444444444445\n",
      "Model Testing accuracy is:  0.5277777777777778\n",
      "micro acc,prec,rec,f1: \t0.528\t0.528\t0.528\t0.528\n",
      "macro prec,rec,f1: \t0.206\t0.202\t0.197\n",
      "Confusion Matrix is:  [[89  9 14  0  1]\n",
      " [17  4  3  1  0]\n",
      " [29  0  2  1  0]\n",
      " [ 4  0  1  0  1]\n",
      " [ 2  0  2  0  0]]\n"
     ]
    }
   ],
   "source": [
    "svm = SVC(kernel='linear', C=0.1, gamma=1.0, class_weight = 'balanced', probability=False) #faster when probability = False\n",
    "\n",
    "# fit model\n",
    "svm.fit(xTrain, yTrain)\n",
    "print(svm)\n",
    "generate_results(svm, xTrain, yTrain, xTest, yTest, train_flag = True)"
   ]
  },
  {
   "cell_type": "code",
   "execution_count": 18,
   "metadata": {},
   "outputs": [
    {
     "name": "stdout",
     "output_type": "stream",
     "text": [
      "SVC(C=0.1, break_ties=False, cache_size=200, class_weight='balanced', coef0=0.0,\n",
      "    decision_function_shape='ovr', degree=3, gamma=0.1, kernel='linear',\n",
      "    max_iter=-1, probability=False, random_state=None, shrinking=True,\n",
      "    tol=0.001, verbose=False)\n",
      "Model Training accuracy is:  0.9944444444444445\n",
      "Model Testing accuracy is:  0.5277777777777778\n",
      "micro acc,prec,rec,f1: \t0.528\t0.528\t0.528\t0.528\n",
      "macro prec,rec,f1: \t0.206\t0.202\t0.197\n",
      "Confusion Matrix is:  [[89  9 14  0  1]\n",
      " [17  4  3  1  0]\n",
      " [29  0  2  1  0]\n",
      " [ 4  0  1  0  1]\n",
      " [ 2  0  2  0  0]]\n"
     ]
    }
   ],
   "source": [
    "svm = SVC(kernel='linear', C=0.1, gamma=0.1, class_weight = 'balanced', probability=False) #faster when probability = False\n",
    "\n",
    "# fit model\n",
    "svm.fit(xTrain, yTrain)\n",
    "print(svm)\n",
    "generate_results(svm, xTrain, yTrain, xTest, yTest, train_flag = True)"
   ]
  },
  {
   "cell_type": "code",
   "execution_count": 19,
   "metadata": {},
   "outputs": [
    {
     "name": "stdout",
     "output_type": "stream",
     "text": [
      "SVC(C=0.1, break_ties=False, cache_size=200, class_weight='balanced', coef0=0.0,\n",
      "    decision_function_shape='ovr', degree=3, gamma=0.01, kernel='linear',\n",
      "    max_iter=-1, probability=False, random_state=None, shrinking=True,\n",
      "    tol=0.001, verbose=False)\n",
      "Model Training accuracy is:  0.9944444444444445\n",
      "Model Testing accuracy is:  0.5277777777777778\n",
      "micro acc,prec,rec,f1: \t0.528\t0.528\t0.528\t0.528\n",
      "macro prec,rec,f1: \t0.206\t0.202\t0.197\n",
      "Confusion Matrix is:  [[89  9 14  0  1]\n",
      " [17  4  3  1  0]\n",
      " [29  0  2  1  0]\n",
      " [ 4  0  1  0  1]\n",
      " [ 2  0  2  0  0]]\n"
     ]
    }
   ],
   "source": [
    "svm = SVC(kernel='linear', C=0.1, gamma=0.01, class_weight = 'balanced', probability=False) #faster when probability = False\n",
    "\n",
    "# fit model\n",
    "svm.fit(xTrain, yTrain)\n",
    "print(svm)\n",
    "generate_results(svm, xTrain, yTrain, xTest, yTest, train_flag = True)"
   ]
  },
  {
   "cell_type": "code",
   "execution_count": 20,
   "metadata": {},
   "outputs": [
    {
     "name": "stdout",
     "output_type": "stream",
     "text": [
      "SVC(C=0.1, break_ties=False, cache_size=200, class_weight='balanced', coef0=0.0,\n",
      "    decision_function_shape='ovr', degree=3, gamma=0.001, kernel='linear',\n",
      "    max_iter=-1, probability=False, random_state=None, shrinking=True,\n",
      "    tol=0.001, verbose=False)\n",
      "Model Training accuracy is:  0.9944444444444445\n",
      "Model Testing accuracy is:  0.5277777777777778\n",
      "micro acc,prec,rec,f1: \t0.528\t0.528\t0.528\t0.528\n",
      "macro prec,rec,f1: \t0.206\t0.202\t0.197\n",
      "Confusion Matrix is:  [[89  9 14  0  1]\n",
      " [17  4  3  1  0]\n",
      " [29  0  2  1  0]\n",
      " [ 4  0  1  0  1]\n",
      " [ 2  0  2  0  0]]\n"
     ]
    }
   ],
   "source": [
    "svm = SVC(kernel='linear', C=0.1, gamma=0.001, class_weight = 'balanced', probability=False) #faster when probability = False\n",
    "\n",
    "# fit model\n",
    "svm.fit(xTrain, yTrain)\n",
    "print(svm)\n",
    "generate_results(svm, xTrain, yTrain, xTest, yTest, train_flag = True)"
   ]
  },
  {
   "cell_type": "code",
   "execution_count": 21,
   "metadata": {},
   "outputs": [
    {
     "name": "stdout",
     "output_type": "stream",
     "text": [
      "SVC(C=0.1, break_ties=False, cache_size=200, class_weight='balanced', coef0=0.0,\n",
      "    decision_function_shape='ovr', degree=3, gamma='auto', kernel='linear',\n",
      "    max_iter=-1, probability=False, random_state=None, shrinking=True,\n",
      "    tol=0.001, verbose=False)\n",
      "Model Training accuracy is:  0.9944444444444445\n",
      "Model Testing accuracy is:  0.5277777777777778\n",
      "micro acc,prec,rec,f1: \t0.528\t0.528\t0.528\t0.528\n",
      "macro prec,rec,f1: \t0.206\t0.202\t0.197\n",
      "Confusion Matrix is:  [[89  9 14  0  1]\n",
      " [17  4  3  1  0]\n",
      " [29  0  2  1  0]\n",
      " [ 4  0  1  0  1]\n",
      " [ 2  0  2  0  0]]\n"
     ]
    }
   ],
   "source": [
    "svm = SVC(kernel='linear', C=0.1, gamma='auto', class_weight = 'balanced', probability=False) #faster when probability = False\n",
    "\n",
    "# fit model\n",
    "svm.fit(xTrain, yTrain)\n",
    "print(svm)\n",
    "generate_results(svm, xTrain, yTrain, xTest, yTest, train_flag = True)"
   ]
  },
  {
   "cell_type": "code",
   "execution_count": 22,
   "metadata": {},
   "outputs": [
    {
     "name": "stdout",
     "output_type": "stream",
     "text": [
      "SVC(C=0.1, break_ties=False, cache_size=200, class_weight=None, coef0=0.0,\n",
      "    decision_function_shape='ovr', degree=3, gamma='auto', kernel='linear',\n",
      "    max_iter=-1, probability=False, random_state=None, shrinking=True,\n",
      "    tol=0.001, verbose=False)\n",
      "Model Training accuracy is:  0.9958333333333333\n",
      "Model Testing accuracy is:  0.5611111111111111\n",
      "micro acc,prec,rec,f1: \t0.561\t0.561\t0.561\t0.561\n",
      "macro prec,rec,f1: \t0.215\t0.208\t0.2\n",
      "Confusion Matrix is:  [[96  6 10  0  1]\n",
      " [17  4  2  2  0]\n",
      " [29  1  1  1  0]\n",
      " [ 4  0  1  0  1]\n",
      " [ 3  0  1  0  0]]\n"
     ]
    }
   ],
   "source": [
    "svm = SVC(kernel='linear', C=0.1, gamma='auto', probability=False) #faster when probability = False\n",
    "\n",
    "# fit model\n",
    "svm.fit(xTrain, yTrain)\n",
    "print(svm)\n",
    "generate_results(svm, xTrain, yTrain, xTest, yTest, train_flag = True)"
   ]
  },
  {
   "cell_type": "code",
   "execution_count": 24,
   "metadata": {},
   "outputs": [
    {
     "data": {
      "text/plain": [
       "9.04224537037037e-06"
      ]
     },
     "execution_count": 24,
     "metadata": {},
     "output_type": "execute_result"
    }
   ],
   "source": [
    "svm._gamma"
   ]
  },
  {
   "cell_type": "markdown",
   "metadata": {},
   "source": [
    "poly"
   ]
  },
  {
   "cell_type": "code",
   "execution_count": 27,
   "metadata": {},
   "outputs": [
    {
     "name": "stdout",
     "output_type": "stream",
     "text": [
      "SVC(C=0.1, break_ties=False, cache_size=200, class_weight=None, coef0=0.0,\n",
      "    decision_function_shape='ovr', degree=3, gamma='auto', kernel='poly',\n",
      "    max_iter=-1, probability=False, random_state=None, shrinking=True,\n",
      "    tol=0.001, verbose=False)\n",
      "Model Training accuracy is:  0.7263888888888889\n",
      "Model Testing accuracy is:  0.6277777777777778\n",
      "micro acc,prec,rec,f1: \t0.628\t0.628\t0.628\t0.628\n",
      "macro prec,rec,f1: \t0.126\t0.2\t0.154\n",
      "Confusion Matrix is:  [[113   0   0   0   0]\n",
      " [ 25   0   0   0   0]\n",
      " [ 32   0   0   0   0]\n",
      " [  6   0   0   0   0]\n",
      " [  4   0   0   0   0]]\n"
     ]
    }
   ],
   "source": [
    "svm = SVC(kernel='poly', C=0.1, gamma='auto', probability=False) #faster when probability = False\n",
    "\n",
    "# fit model\n",
    "svm.fit(xTrain, yTrain)\n",
    "print(svm)\n",
    "generate_results(svm, xTrain, yTrain, xTest, yTest, train_flag = True)"
   ]
  },
  {
   "cell_type": "markdown",
   "metadata": {},
   "source": [
    "rbf"
   ]
  },
  {
   "cell_type": "code",
   "execution_count": 25,
   "metadata": {
    "scrolled": true
   },
   "outputs": [
    {
     "name": "stdout",
     "output_type": "stream",
     "text": [
      "SVC(C=0.1, break_ties=False, cache_size=200, class_weight=None, coef0=0.0,\n",
      "    decision_function_shape='ovr', degree=3, gamma='auto', kernel='rbf',\n",
      "    max_iter=-1, probability=False, random_state=None, shrinking=True,\n",
      "    tol=0.001, verbose=False)\n",
      "Model Training accuracy is:  0.7263888888888889\n",
      "Model Testing accuracy is:  0.6277777777777778\n",
      "micro acc,prec,rec,f1: \t0.628\t0.628\t0.628\t0.628\n",
      "macro prec,rec,f1: \t0.126\t0.2\t0.154\n",
      "Confusion Matrix is:  [[113   0   0   0   0]\n",
      " [ 25   0   0   0   0]\n",
      " [ 32   0   0   0   0]\n",
      " [  6   0   0   0   0]\n",
      " [  4   0   0   0   0]]\n"
     ]
    }
   ],
   "source": [
    "svm = SVC(kernel='rbf', C=0.1, gamma='auto', probability=False) #faster when probability = False\n",
    "\n",
    "# fit model\n",
    "svm.fit(xTrain, yTrain)\n",
    "print(svm)\n",
    "generate_results(svm, xTrain, yTrain, xTest, yTest, train_flag = True)"
   ]
  },
  {
   "cell_type": "code",
   "execution_count": 26,
   "metadata": {},
   "outputs": [
    {
     "name": "stdout",
     "output_type": "stream",
     "text": [
      "SVC(C=0.1, break_ties=False, cache_size=200, class_weight='balanced', coef0=0.0,\n",
      "    decision_function_shape='ovr', degree=3, gamma='auto', kernel='rbf',\n",
      "    max_iter=-1, probability=False, random_state=None, shrinking=True,\n",
      "    tol=0.001, verbose=False)\n",
      "Model Training accuracy is:  0.09027777777777778\n",
      "Model Testing accuracy is:  0.1388888888888889\n",
      "micro acc,prec,rec,f1: \t0.139\t0.139\t0.139\t0.139\n",
      "macro prec,rec,f1: \t0.028\t0.2\t0.049\n",
      "Confusion Matrix is:  [[  0 113   0   0   0]\n",
      " [  0  25   0   0   0]\n",
      " [  0  32   0   0   0]\n",
      " [  0   6   0   0   0]\n",
      " [  0   4   0   0   0]]\n"
     ]
    }
   ],
   "source": [
    "svm = SVC(kernel='rbf', C=0.1, gamma='auto', class_weight = 'balanced', probability=False) #faster when probability = False\n",
    "\n",
    "# fit model\n",
    "svm.fit(xTrain, yTrain)\n",
    "print(svm)\n",
    "generate_results(svm, xTrain, yTrain, xTest, yTest, train_flag = True)"
   ]
  },
  {
   "cell_type": "markdown",
   "metadata": {},
   "source": [
    "conclusion: class_weight = balanced is bad"
   ]
  },
  {
   "cell_type": "code",
   "execution_count": 28,
   "metadata": {},
   "outputs": [
    {
     "name": "stdout",
     "output_type": "stream",
     "text": [
      "SVC(C=1, break_ties=False, cache_size=200, class_weight=None, coef0=0.0,\n",
      "    decision_function_shape='ovr', degree=3, gamma='auto', kernel='rbf',\n",
      "    max_iter=-1, probability=False, random_state=None, shrinking=True,\n",
      "    tol=0.001, verbose=False)\n",
      "Model Training accuracy is:  0.7263888888888889\n",
      "Model Testing accuracy is:  0.6277777777777778\n",
      "micro acc,prec,rec,f1: \t0.628\t0.628\t0.628\t0.628\n",
      "macro prec,rec,f1: \t0.126\t0.2\t0.154\n",
      "Confusion Matrix is:  [[113   0   0   0   0]\n",
      " [ 25   0   0   0   0]\n",
      " [ 32   0   0   0   0]\n",
      " [  6   0   0   0   0]\n",
      " [  4   0   0   0   0]]\n"
     ]
    }
   ],
   "source": [
    "svm = SVC(kernel='rbf', C=1, gamma='auto', probability=False) #faster when probability = False\n",
    "\n",
    "# fit model\n",
    "svm.fit(xTrain, yTrain)\n",
    "print(svm)\n",
    "generate_results(svm, xTrain, yTrain, xTest, yTest, train_flag = True)"
   ]
  },
  {
   "cell_type": "code",
   "execution_count": 29,
   "metadata": {},
   "outputs": [
    {
     "name": "stdout",
     "output_type": "stream",
     "text": [
      "SVC(C=0.01, break_ties=False, cache_size=200, class_weight=None, coef0=0.0,\n",
      "    decision_function_shape='ovr', degree=3, gamma='auto', kernel='rbf',\n",
      "    max_iter=-1, probability=False, random_state=None, shrinking=True,\n",
      "    tol=0.001, verbose=False)\n",
      "Model Training accuracy is:  0.7263888888888889\n",
      "Model Testing accuracy is:  0.6277777777777778\n",
      "micro acc,prec,rec,f1: \t0.628\t0.628\t0.628\t0.628\n",
      "macro prec,rec,f1: \t0.126\t0.2\t0.154\n",
      "Confusion Matrix is:  [[113   0   0   0   0]\n",
      " [ 25   0   0   0   0]\n",
      " [ 32   0   0   0   0]\n",
      " [  6   0   0   0   0]\n",
      " [  4   0   0   0   0]]\n"
     ]
    }
   ],
   "source": [
    "svm = SVC(kernel='rbf', C=0.01, gamma='auto', probability=False) #faster when probability = False\n",
    "\n",
    "# fit model\n",
    "svm.fit(xTrain, yTrain)\n",
    "print(svm)\n",
    "generate_results(svm, xTrain, yTrain, xTest, yTest, train_flag = True)"
   ]
  },
  {
   "cell_type": "code",
   "execution_count": 30,
   "metadata": {},
   "outputs": [
    {
     "name": "stdout",
     "output_type": "stream",
     "text": [
      "SVC(C=0.001, break_ties=False, cache_size=200, class_weight=None, coef0=0.0,\n",
      "    decision_function_shape='ovr', degree=3, gamma='auto', kernel='rbf',\n",
      "    max_iter=-1, probability=False, random_state=None, shrinking=True,\n",
      "    tol=0.001, verbose=False)\n",
      "Model Training accuracy is:  0.7263888888888889\n",
      "Model Testing accuracy is:  0.6277777777777778\n",
      "micro acc,prec,rec,f1: \t0.628\t0.628\t0.628\t0.628\n",
      "macro prec,rec,f1: \t0.126\t0.2\t0.154\n",
      "Confusion Matrix is:  [[113   0   0   0   0]\n",
      " [ 25   0   0   0   0]\n",
      " [ 32   0   0   0   0]\n",
      " [  6   0   0   0   0]\n",
      " [  4   0   0   0   0]]\n"
     ]
    }
   ],
   "source": [
    "svm = SVC(kernel='rbf', C=0.001, gamma='auto', probability=False) #faster when probability = False\n",
    "\n",
    "# fit model\n",
    "svm.fit(xTrain, yTrain)\n",
    "print(svm)\n",
    "generate_results(svm, xTrain, yTrain, xTest, yTest, train_flag = True)"
   ]
  },
  {
   "cell_type": "code",
   "execution_count": 31,
   "metadata": {},
   "outputs": [
    {
     "name": "stdout",
     "output_type": "stream",
     "text": [
      "SVC(C=0.0001, break_ties=False, cache_size=200, class_weight=None, coef0=0.0,\n",
      "    decision_function_shape='ovr', degree=3, gamma='auto', kernel='rbf',\n",
      "    max_iter=-1, probability=False, random_state=None, shrinking=True,\n",
      "    tol=0.001, verbose=False)\n",
      "Model Training accuracy is:  0.7263888888888889\n",
      "Model Testing accuracy is:  0.6277777777777778\n",
      "micro acc,prec,rec,f1: \t0.628\t0.628\t0.628\t0.628\n",
      "macro prec,rec,f1: \t0.126\t0.2\t0.154\n",
      "Confusion Matrix is:  [[113   0   0   0   0]\n",
      " [ 25   0   0   0   0]\n",
      " [ 32   0   0   0   0]\n",
      " [  6   0   0   0   0]\n",
      " [  4   0   0   0   0]]\n"
     ]
    }
   ],
   "source": [
    "svm = SVC(kernel='rbf', C=0.0001, gamma='auto', probability=False) #faster when probability = False\n",
    "\n",
    "# fit model\n",
    "svm.fit(xTrain, yTrain)\n",
    "print(svm)\n",
    "generate_results(svm, xTrain, yTrain, xTest, yTest, train_flag = True)"
   ]
  },
  {
   "cell_type": "code",
   "execution_count": 32,
   "metadata": {},
   "outputs": [
    {
     "name": "stdout",
     "output_type": "stream",
     "text": [
      "SVC(C=1e-05, break_ties=False, cache_size=200, class_weight=None, coef0=0.0,\n",
      "    decision_function_shape='ovr', degree=3, gamma='auto', kernel='rbf',\n",
      "    max_iter=-1, probability=False, random_state=None, shrinking=True,\n",
      "    tol=0.001, verbose=False)\n",
      "Model Training accuracy is:  0.7263888888888889\n",
      "Model Testing accuracy is:  0.6277777777777778\n",
      "micro acc,prec,rec,f1: \t0.628\t0.628\t0.628\t0.628\n",
      "macro prec,rec,f1: \t0.126\t0.2\t0.154\n",
      "Confusion Matrix is:  [[113   0   0   0   0]\n",
      " [ 25   0   0   0   0]\n",
      " [ 32   0   0   0   0]\n",
      " [  6   0   0   0   0]\n",
      " [  4   0   0   0   0]]\n"
     ]
    }
   ],
   "source": [
    "svm = SVC(kernel='rbf', C=0.00001, gamma='auto', probability=False) #faster when probability = False\n",
    "\n",
    "# fit model\n",
    "svm.fit(xTrain, yTrain)\n",
    "print(svm)\n",
    "generate_results(svm, xTrain, yTrain, xTest, yTest, train_flag = True)"
   ]
  },
  {
   "cell_type": "code",
   "execution_count": 33,
   "metadata": {},
   "outputs": [
    {
     "name": "stdout",
     "output_type": "stream",
     "text": [
      "SVC(C=1e-06, break_ties=False, cache_size=200, class_weight=None, coef0=0.0,\n",
      "    decision_function_shape='ovr', degree=3, gamma='auto', kernel='rbf',\n",
      "    max_iter=-1, probability=False, random_state=None, shrinking=True,\n",
      "    tol=0.001, verbose=False)\n",
      "Model Training accuracy is:  0.7263888888888889\n",
      "Model Testing accuracy is:  0.6277777777777778\n",
      "micro acc,prec,rec,f1: \t0.628\t0.628\t0.628\t0.628\n",
      "macro prec,rec,f1: \t0.126\t0.2\t0.154\n",
      "Confusion Matrix is:  [[113   0   0   0   0]\n",
      " [ 25   0   0   0   0]\n",
      " [ 32   0   0   0   0]\n",
      " [  6   0   0   0   0]\n",
      " [  4   0   0   0   0]]\n"
     ]
    }
   ],
   "source": [
    "svm = SVC(kernel='rbf', C=0.000001, gamma='auto', probability=False) #faster when probability = False\n",
    "\n",
    "# fit model\n",
    "svm.fit(xTrain, yTrain)\n",
    "print(svm)\n",
    "generate_results(svm, xTrain, yTrain, xTest, yTest, train_flag = True)"
   ]
  },
  {
   "cell_type": "code",
   "execution_count": 34,
   "metadata": {},
   "outputs": [
    {
     "name": "stdout",
     "output_type": "stream",
     "text": [
      "SVC(C=2, break_ties=False, cache_size=200, class_weight=None, coef0=0.0,\n",
      "    decision_function_shape='ovr', degree=3, gamma='auto', kernel='rbf',\n",
      "    max_iter=-1, probability=False, random_state=None, shrinking=True,\n",
      "    tol=0.001, verbose=False)\n",
      "Model Training accuracy is:  0.7263888888888889\n",
      "Model Testing accuracy is:  0.6277777777777778\n",
      "micro acc,prec,rec,f1: \t0.628\t0.628\t0.628\t0.628\n",
      "macro prec,rec,f1: \t0.126\t0.2\t0.154\n",
      "Confusion Matrix is:  [[113   0   0   0   0]\n",
      " [ 25   0   0   0   0]\n",
      " [ 32   0   0   0   0]\n",
      " [  6   0   0   0   0]\n",
      " [  4   0   0   0   0]]\n"
     ]
    }
   ],
   "source": [
    "svm = SVC(kernel='rbf', C=2, gamma='auto', probability=False) #faster when probability = False\n",
    "\n",
    "# fit model\n",
    "svm.fit(xTrain, yTrain)\n",
    "print(svm)\n",
    "generate_results(svm, xTrain, yTrain, xTest, yTest, train_flag = True)"
   ]
  },
  {
   "cell_type": "code",
   "execution_count": 35,
   "metadata": {},
   "outputs": [
    {
     "name": "stdout",
     "output_type": "stream",
     "text": [
      "SVC(C=5, break_ties=False, cache_size=200, class_weight=None, coef0=0.0,\n",
      "    decision_function_shape='ovr', degree=3, gamma='auto', kernel='rbf',\n",
      "    max_iter=-1, probability=False, random_state=None, shrinking=True,\n",
      "    tol=0.001, verbose=False)\n",
      "Model Training accuracy is:  0.7263888888888889\n",
      "Model Testing accuracy is:  0.6277777777777778\n",
      "micro acc,prec,rec,f1: \t0.628\t0.628\t0.628\t0.628\n",
      "macro prec,rec,f1: \t0.126\t0.2\t0.154\n",
      "Confusion Matrix is:  [[113   0   0   0   0]\n",
      " [ 25   0   0   0   0]\n",
      " [ 32   0   0   0   0]\n",
      " [  6   0   0   0   0]\n",
      " [  4   0   0   0   0]]\n"
     ]
    }
   ],
   "source": [
    "svm = SVC(kernel='rbf', C=5, gamma='auto', probability=False) #faster when probability = False\n",
    "\n",
    "# fit model\n",
    "svm.fit(xTrain, yTrain)\n",
    "print(svm)\n",
    "generate_results(svm, xTrain, yTrain, xTest, yTest, train_flag = True)"
   ]
  },
  {
   "cell_type": "code",
   "execution_count": 36,
   "metadata": {},
   "outputs": [
    {
     "name": "stdout",
     "output_type": "stream",
     "text": [
      "SVC(C=10, break_ties=False, cache_size=200, class_weight=None, coef0=0.0,\n",
      "    decision_function_shape='ovr', degree=3, gamma='auto', kernel='rbf',\n",
      "    max_iter=-1, probability=False, random_state=None, shrinking=True,\n",
      "    tol=0.001, verbose=False)\n",
      "Model Training accuracy is:  0.7263888888888889\n",
      "Model Testing accuracy is:  0.6277777777777778\n",
      "micro acc,prec,rec,f1: \t0.628\t0.628\t0.628\t0.628\n",
      "macro prec,rec,f1: \t0.126\t0.2\t0.154\n",
      "Confusion Matrix is:  [[113   0   0   0   0]\n",
      " [ 25   0   0   0   0]\n",
      " [ 32   0   0   0   0]\n",
      " [  6   0   0   0   0]\n",
      " [  4   0   0   0   0]]\n"
     ]
    }
   ],
   "source": [
    "svm = SVC(kernel='rbf', C=10, gamma='auto', probability=False) #faster when probability = False\n",
    "\n",
    "# fit model\n",
    "svm.fit(xTrain, yTrain)\n",
    "print(svm)\n",
    "generate_results(svm, xTrain, yTrain, xTest, yTest, train_flag = True)"
   ]
  },
  {
   "cell_type": "markdown",
   "metadata": {},
   "source": [
    "with 5 classes, and 320, 80, different gamma - with normalization"
   ]
  },
  {
   "cell_type": "code",
   "execution_count": 13,
   "metadata": {},
   "outputs": [
    {
     "name": "stdout",
     "output_type": "stream",
     "text": [
      "SVC(C=0.1, break_ties=False, cache_size=200, class_weight='balanced', coef0=0.0,\n",
      "    decision_function_shape='ovr', degree=3, gamma=1.0, kernel='linear',\n",
      "    max_iter=-1, probability=False, random_state=None, shrinking=True,\n",
      "    tol=0.001, verbose=False)\n",
      "Model Training accuracy is:  0.996875\n",
      "Model Testing accuracy is:  0.6125\n",
      "micro acc,prec,rec,f1: \t0.612\t0.612\t0.612\t0.612\n",
      "macro prec,rec,f1: \t0.306\t0.253\t0.265\n",
      "Confusion Matrix is:  [[44  2  5  2  0]\n",
      " [ 6  2  1  0  0]\n",
      " [ 9  0  3  1  1]\n",
      " [ 1  0  0  0  0]\n",
      " [ 3  0  0  0  0]]\n"
     ]
    }
   ],
   "source": [
    "svm = SVC(kernel='linear', C=0.1, gamma=1.0, class_weight = 'balanced', probability=False) #faster when probability = False\n",
    "\n",
    "# fit model\n",
    "svm.fit(xTrain, yTrain)\n",
    "print(svm)\n",
    "generate_results(svm, xTrain_norm, yTrain, xTest_norm, yTest, train_flag = True)"
   ]
  },
  {
   "cell_type": "code",
   "execution_count": null,
   "metadata": {},
   "outputs": [],
   "source": []
  },
  {
   "cell_type": "markdown",
   "metadata": {},
   "source": [
    "with 5 classes, and 320, 80, different gamma"
   ]
  },
  {
   "cell_type": "code",
   "execution_count": 7,
   "metadata": {},
   "outputs": [
    {
     "name": "stdout",
     "output_type": "stream",
     "text": [
      "SVC(C=0.1, break_ties=False, cache_size=200, class_weight='balanced', coef0=0.0,\n",
      "    decision_function_shape='ovr', degree=3, gamma=1.0, kernel='linear',\n",
      "    max_iter=-1, probability=False, random_state=None, shrinking=True,\n",
      "    tol=0.001, verbose=False)\n",
      "Model Training accuracy is:  0.996875\n",
      "Model Testing accuracy is:  0.525\n",
      "micro acc,prec,rec,f1: \t0.525\t0.525\t0.525\t0.525\n",
      "macro prec,rec,f1: \t0.186\t0.187\t0.186\n",
      "Confusion Matrix is:  [[38  4 11  2  2]\n",
      " [ 2  0  1  0  0]\n",
      " [11  0  4  0  0]\n",
      " [ 3  0  0  0  0]\n",
      " [ 2  0  0  0  0]]\n"
     ]
    }
   ],
   "source": [
    "svm = SVC(kernel='linear', C=0.1, gamma=1.0, class_weight = 'balanced', probability=False) #faster when probability = False\n",
    "\n",
    "# fit model\n",
    "svm.fit(xTrain, yTrain)\n",
    "print(svm)\n",
    "\n",
    "generate_results(svm, xTrain, yTrain, xTest, yTest, train_flag = True)"
   ]
  },
  {
   "cell_type": "code",
   "execution_count": 8,
   "metadata": {},
   "outputs": [
    {
     "name": "stdout",
     "output_type": "stream",
     "text": [
      "SVC(C=0.1, break_ties=False, cache_size=200, class_weight='balanced', coef0=0.0,\n",
      "    decision_function_shape='ovr', degree=3, gamma=0.5, kernel='linear',\n",
      "    max_iter=-1, probability=False, random_state=None, shrinking=True,\n",
      "    tol=0.001, verbose=False)\n",
      "Model Training accuracy is:  0.996875\n",
      "Model Testing accuracy is:  0.525\n",
      "micro acc,prec,rec,f1: \t0.525\t0.525\t0.525\t0.525\n",
      "macro prec,rec,f1: \t0.186\t0.187\t0.186\n",
      "Confusion Matrix is:  [[38  4 11  2  2]\n",
      " [ 2  0  1  0  0]\n",
      " [11  0  4  0  0]\n",
      " [ 3  0  0  0  0]\n",
      " [ 2  0  0  0  0]]\n"
     ]
    }
   ],
   "source": [
    "svm = SVC(kernel='linear', C=0.1, gamma=0.5, class_weight = 'balanced', probability=False) #faster when probability = False\n",
    "\n",
    "# fit model\n",
    "svm.fit(xTrain, yTrain)\n",
    "print(svm)\n",
    "\n",
    "generate_results(svm, xTrain, yTrain, xTest, yTest, train_flag = True)"
   ]
  },
  {
   "cell_type": "code",
   "execution_count": 9,
   "metadata": {},
   "outputs": [
    {
     "name": "stdout",
     "output_type": "stream",
     "text": [
      "SVC(C=0.1, break_ties=False, cache_size=200, class_weight='balanced', coef0=0.0,\n",
      "    decision_function_shape='ovr', degree=3, gamma=0.1, kernel='linear',\n",
      "    max_iter=-1, probability=False, random_state=None, shrinking=True,\n",
      "    tol=0.001, verbose=False)\n",
      "Model Training accuracy is:  0.996875\n",
      "Model Testing accuracy is:  0.525\n",
      "micro acc,prec,rec,f1: \t0.525\t0.525\t0.525\t0.525\n",
      "macro prec,rec,f1: \t0.186\t0.187\t0.186\n",
      "Confusion Matrix is:  [[38  4 11  2  2]\n",
      " [ 2  0  1  0  0]\n",
      " [11  0  4  0  0]\n",
      " [ 3  0  0  0  0]\n",
      " [ 2  0  0  0  0]]\n"
     ]
    }
   ],
   "source": [
    "svm = SVC(kernel='linear', C=0.1, gamma=0.1, class_weight = 'balanced', probability=False) #faster when probability = False\n",
    "\n",
    "# fit model\n",
    "svm.fit(xTrain, yTrain)\n",
    "print(svm)\n",
    "\n",
    "generate_results(svm, xTrain, yTrain, xTest, yTest, train_flag = True)"
   ]
  },
  {
   "cell_type": "code",
   "execution_count": 10,
   "metadata": {},
   "outputs": [
    {
     "name": "stdout",
     "output_type": "stream",
     "text": [
      "SVC(C=0.1, break_ties=False, cache_size=200, class_weight='balanced', coef0=0.0,\n",
      "    decision_function_shape='ovr', degree=3, gamma=0.01, kernel='linear',\n",
      "    max_iter=-1, probability=False, random_state=None, shrinking=True,\n",
      "    tol=0.001, verbose=False)\n",
      "Model Training accuracy is:  0.996875\n",
      "Model Testing accuracy is:  0.525\n",
      "micro acc,prec,rec,f1: \t0.525\t0.525\t0.525\t0.525\n",
      "macro prec,rec,f1: \t0.186\t0.187\t0.186\n",
      "Confusion Matrix is:  [[38  4 11  2  2]\n",
      " [ 2  0  1  0  0]\n",
      " [11  0  4  0  0]\n",
      " [ 3  0  0  0  0]\n",
      " [ 2  0  0  0  0]]\n"
     ]
    }
   ],
   "source": [
    "svm = SVC(kernel='linear', C=0.1, gamma=0.01, class_weight = 'balanced', probability=False) #faster when probability = False\n",
    "\n",
    "# fit model\n",
    "svm.fit(xTrain, yTrain)\n",
    "print(svm)\n",
    "\n",
    "generate_results(svm, xTrain, yTrain, xTest, yTest, train_flag = True)"
   ]
  },
  {
   "cell_type": "code",
   "execution_count": 11,
   "metadata": {},
   "outputs": [
    {
     "name": "stdout",
     "output_type": "stream",
     "text": [
      "SVC(C=0.1, break_ties=False, cache_size=200, class_weight='balanced', coef0=0.0,\n",
      "    decision_function_shape='ovr', degree=3, gamma=0.001, kernel='linear',\n",
      "    max_iter=-1, probability=False, random_state=None, shrinking=True,\n",
      "    tol=0.001, verbose=False)\n",
      "Model Training accuracy is:  0.996875\n",
      "Model Testing accuracy is:  0.525\n",
      "micro acc,prec,rec,f1: \t0.525\t0.525\t0.525\t0.525\n",
      "macro prec,rec,f1: \t0.186\t0.187\t0.186\n",
      "Confusion Matrix is:  [[38  4 11  2  2]\n",
      " [ 2  0  1  0  0]\n",
      " [11  0  4  0  0]\n",
      " [ 3  0  0  0  0]\n",
      " [ 2  0  0  0  0]]\n"
     ]
    }
   ],
   "source": [
    "svm = SVC(kernel='linear', C=0.1, gamma=0.001, class_weight = 'balanced', probability=False) #faster when probability = False\n",
    "\n",
    "# fit model\n",
    "svm.fit(xTrain, yTrain)\n",
    "print(svm)\n",
    "\n",
    "generate_results(svm, xTrain, yTrain, xTest, yTest, train_flag = True)"
   ]
  },
  {
   "cell_type": "markdown",
   "metadata": {},
   "source": [
    "## History"
   ]
  },
  {
   "cell_type": "markdown",
   "metadata": {},
   "source": [
    "with 5 classes, and 320, 80"
   ]
  },
  {
   "cell_type": "code",
   "execution_count": 13,
   "metadata": {},
   "outputs": [
    {
     "name": "stdout",
     "output_type": "stream",
     "text": [
      "SVC(C=0.1, break_ties=False, cache_size=200, class_weight='balanced', coef0=0.0,\n",
      "    decision_function_shape='ovr', degree=3, gamma='scale', kernel='linear',\n",
      "    max_iter=-1, probability=False, random_state=None, shrinking=True,\n",
      "    tol=0.001, verbose=False)\n",
      "Model Training accuracy is:  0.99375\n",
      "Model Testing accuracy is:  0.5875\n",
      "micro acc,prec,rec,f1: \t0.588\t0.588\t0.588\t0.588\n",
      "macro prec,rec,f1: \t0.164\t0.181\t0.171\n",
      "Confusion Matrix is:  [[46  3  6  1  0]\n",
      " [ 6  0  1  0  0]\n",
      " [11  0  1  0  0]\n",
      " [ 2  0  0  0  0]\n",
      " [ 1  2  0  0  0]]\n"
     ]
    }
   ],
   "source": [
    "svm = SVC(kernel='linear', C=0.1, gamma='scale', class_weight = 'balanced', probability=False) #faster when probability = False\n",
    "\n",
    "# fit model\n",
    "svm.fit(xTrain, yTrain)\n",
    "print(svm)\n",
    "\n",
    "generate_results(svm, xTrain, yTrain, xTest, yTest, train_flag = True)"
   ]
  },
  {
   "cell_type": "markdown",
   "metadata": {},
   "source": [
    "with 3 classes, and 320, 80"
   ]
  },
  {
   "cell_type": "code",
   "execution_count": 8,
   "metadata": {},
   "outputs": [
    {
     "name": "stdout",
     "output_type": "stream",
     "text": [
      "SVC(C=0.1, break_ties=False, cache_size=200, class_weight='balanced', coef0=0.0,\n",
      "    decision_function_shape='ovr', degree=3, gamma='scale', kernel='linear',\n",
      "    max_iter=-1, probability=False, random_state=None, shrinking=True,\n",
      "    tol=0.001, verbose=False)\n",
      "Model Training accuracy is:  1.0\n",
      "Model Testing accuracy is:  0.525\n",
      "micro acc,prec,rec,f1: \t0.525\t0.525\t0.525\t0.525\n",
      "macro prec,rec,f1: \t0.296\t0.303\t0.289\n",
      "Confusion Matrix is:  [[38 10  2]\n",
      " [22  4  1]\n",
      " [ 3  0  0]]\n"
     ]
    }
   ],
   "source": [
    "svm = SVC(kernel='linear', C=0.1, gamma='scale', class_weight = 'balanced', probability=False) #faster when probability = False\n",
    "\n",
    "# fit model\n",
    "svm.fit(xTrain, yTrain)\n",
    "print(svm)\n",
    "\n",
    "generate_results(svm, xTrain, yTrain, xTest, yTest, train_flag = True)"
   ]
  },
  {
   "cell_type": "markdown",
   "metadata": {},
   "source": [
    "720, 180 = 900"
   ]
  },
  {
   "cell_type": "code",
   "execution_count": 10,
   "metadata": {},
   "outputs": [
    {
     "name": "stdout",
     "output_type": "stream",
     "text": [
      "SVC(C=0.1, break_ties=False, cache_size=200, class_weight='balanced', coef0=0.0,\n",
      "    decision_function_shape='ovr', degree=3, gamma='scale', kernel='linear',\n",
      "    max_iter=-1, probability=False, random_state=None, shrinking=True,\n",
      "    tol=0.001, verbose=False)\n",
      "Model Training accuracy is:  0.9875\n",
      "Model Testing accuracy is:  0.6222222222222222\n",
      "micro acc,prec,rec,f1: \t0.622\t0.622\t0.622\t0.622\n",
      "macro prec,rec,f1: \t0.345\t0.291\t0.304\n",
      "Confusion Matrix is:  [[100   8  10   0   1]\n",
      " [ 18   1   1   0   0]\n",
      " [ 21   1  10   0   0]\n",
      " [  4   0   1   0   0]\n",
      " [  2   0   1   0   1]]\n"
     ]
    }
   ],
   "source": [
    "svm = SVC(kernel='linear', C=0.1, gamma='scale', class_weight = 'balanced', probability=False) #faster when probability = False\n",
    "\n",
    "# fit model\n",
    "svm.fit(xTrain, yTrain)\n",
    "print(svm)\n",
    "\n",
    "generate_results(svm, xTrain, yTrain, xTest, yTest, train_flag = True)"
   ]
  },
  {
   "cell_type": "markdown",
   "metadata": {},
   "source": [
    "1440, 360 = 1800"
   ]
  },
  {
   "cell_type": "code",
   "execution_count": 22,
   "metadata": {},
   "outputs": [
    {
     "name": "stdout",
     "output_type": "stream",
     "text": [
      "SVC(C=0.1, break_ties=False, cache_size=200, class_weight=None, coef0=0.0,\n",
      "    decision_function_shape='ovr', degree=3, gamma='auto', kernel='linear',\n",
      "    max_iter=-1, probability=False, random_state=None, shrinking=True,\n",
      "    tol=0.001, verbose=False)\n",
      "Model Training accuracy is:  0.9840277777777777\n",
      "Model Testing accuracy is:  0.6138888888888889\n",
      "micro acc,prec,rec,f1: \t0.614\t0.614\t0.614\t0.614\n",
      "macro prec,rec,f1: \t0.278\t0.235\t0.237\n",
      "Confusion Matrix is:  [[206   8  25   1   2]\n",
      " [ 32   2   1   1   0]\n",
      " [ 46   0  12   1   0]\n",
      " [ 11   1   2   1   0]\n",
      " [  5   1   2   0   0]]\n"
     ]
    }
   ],
   "source": [
    "svm = SVC(kernel='linear', C=0.1, gamma='auto', probability=False) #faster when probability = False\n",
    "\n",
    "# fit model\n",
    "svm.fit(xTrain, yTrain)\n",
    "print(svm)\n",
    "\n",
    "generate_results(xTrain, yTrain, xTest, yTest, train_flag = True)"
   ]
  },
  {
   "cell_type": "markdown",
   "metadata": {},
   "source": [
    "2160, 540"
   ]
  },
  {
   "cell_type": "code",
   "execution_count": 15,
   "metadata": {},
   "outputs": [
    {
     "name": "stdout",
     "output_type": "stream",
     "text": [
      "SVC(C=0.1, break_ties=False, cache_size=200, class_weight=None, coef0=0.0,\n",
      "    decision_function_shape='ovr', degree=3, gamma='auto', kernel='linear',\n",
      "    max_iter=-1, probability=False, random_state=None, shrinking=True,\n",
      "    tol=0.001, verbose=False)\n",
      "Model Training accuracy is:  0.9819444444444444\n",
      "Model Testing accuracy is:  0.6592592592592592\n",
      "micro acc,prec,rec,f1: \t0.659\t0.659\t0.659\t0.659\n",
      "macro prec,rec,f1: \t0.543\t0.301\t0.335\n",
      "Confusion Matrix is:  [[326  15  36   1   0]\n",
      " [ 35   8   1   1   0]\n",
      " [ 64   2  18   0   0]\n",
      " [ 12   3   2   2   0]\n",
      " [  7   0   4   1   2]]\n"
     ]
    }
   ],
   "source": [
    "svm = SVC(kernel='linear', C=0.1, gamma='auto', probability=False) #faster when probability = False\n",
    "\n",
    "# fit model\n",
    "svm.fit(xTrain, yTrain)\n",
    "print(svm)\n",
    "\n",
    "generate_results(xTrain, yTrain, xTest, yTest, train_flag = True)"
   ]
  },
  {
   "cell_type": "markdown",
   "metadata": {},
   "source": [
    "720, 180"
   ]
  },
  {
   "cell_type": "code",
   "execution_count": 13,
   "metadata": {},
   "outputs": [
    {
     "name": "stdout",
     "output_type": "stream",
     "text": [
      "SVC(C=0.1, break_ties=False, cache_size=200, class_weight=None, coef0=0.0,\n",
      "    decision_function_shape='ovr', degree=3, gamma='auto', kernel='linear',\n",
      "    max_iter=-1, probability=False, random_state=None, shrinking=True,\n",
      "    tol=0.001, verbose=False)\n",
      "Model Training accuracy is:  0.9986111111111111\n",
      "Model Testing accuracy is:  0.6888888888888889\n",
      "micro acc,prec,rec,f1: \t0.689\t0.689\t0.689\t0.689\n",
      "macro prec,rec,f1: \t0.237\t0.239\t0.237\n",
      "Confusion Matrix is:  [[117   5  14   0   1]\n",
      " [  7   1   2   0   0]\n",
      " [ 19   0   6   0   0]\n",
      " [  3   1   1   0   0]\n",
      " [  2   0   1   0   0]]\n"
     ]
    }
   ],
   "source": [
    "svm = SVC(kernel='linear', C=0.1, gamma='auto', probability=False) #faster when probability = False\n",
    "\n",
    "# fit model\n",
    "svm.fit(xTrain, yTrain)\n",
    "print(svm)\n",
    "\n",
    "generate_results(xTrain, yTrain, xTest, yTest, train_flag = True)"
   ]
  },
  {
   "cell_type": "markdown",
   "metadata": {},
   "source": [
    "train 480, 120"
   ]
  },
  {
   "cell_type": "code",
   "execution_count": 11,
   "metadata": {},
   "outputs": [
    {
     "name": "stdout",
     "output_type": "stream",
     "text": [
      "SVC(C=0.1, break_ties=False, cache_size=200, class_weight=None, coef0=0.0,\n",
      "    decision_function_shape='ovr', degree=3, gamma='auto', kernel='linear',\n",
      "    max_iter=-1, probability=False, random_state=None, shrinking=True,\n",
      "    tol=0.001, verbose=False)\n",
      "Model Training accuracy is:  0.9979166666666667\n",
      "Model Testing accuracy is:  0.625\n",
      "micro acc,prec,rec,f1: \t0.625\t0.625\t0.625\t0.625\n",
      "macro prec,rec,f1: \t0.19\t0.194\t0.192\n",
      "Confusion Matrix is:  [[72  7 11  1  1]\n",
      " [ 8  0  2  0  0]\n",
      " [12  1  3  0  0]\n",
      " [ 1  0  1  0  0]\n",
      " [ 0  0  0  0  0]]\n"
     ]
    }
   ],
   "source": [
    "svm = SVC(kernel='linear', C=0.1, gamma='auto', probability=False) #faster when probability = False\n",
    "\n",
    "# fit model\n",
    "svm.fit(xTrain, yTrain)\n",
    "print(svm)\n",
    "\n",
    "generate_results(xTrain, yTrain, xTest, yTest, train_flag = True)"
   ]
  },
  {
   "cell_type": "markdown",
   "metadata": {},
   "source": [
    "training = 720, testing 180"
   ]
  },
  {
   "cell_type": "code",
   "execution_count": 66,
   "metadata": {},
   "outputs": [
    {
     "name": "stdout",
     "output_type": "stream",
     "text": [
      "SVC(C=0.1, break_ties=False, cache_size=200, class_weight=None, coef0=0.0,\n",
      "    decision_function_shape='ovr', degree=3, gamma='auto', kernel='linear',\n",
      "    max_iter=-1, probability=False, random_state=None, shrinking=True,\n",
      "    tol=0.001, verbose=False)\n",
      "Model Training accuracy is:  0.9986111111111111\n",
      "Model Testing accuracy is:  0.3611111111111111\n",
      "micro acc,prec,rec,f1: \t0.361\t0.361\t0.361\t0.361\n",
      "macro prec,rec,f1: \t0.271\t0.269\t0.231\n",
      "Confusion Matrix is:  [[44 25 24 17 13]\n",
      " [ 4 12  6  1  3]\n",
      " [ 2  7  8  3  1]\n",
      " [ 0  4  1  1  1]\n",
      " [ 1  1  1  0  0]]\n"
     ]
    }
   ],
   "source": [
    "svm = SVC(kernel='linear', C=0.1, gamma='auto', probability=False) #faster when probability = False\n",
    "\n",
    "# fit model\n",
    "svm.fit(xTrain, yTrain)\n",
    "print(svm)\n",
    "\n",
    "generate_results(xTrain, yTrain, xTest, yTest, train_flag = True)"
   ]
  },
  {
   "cell_type": "code",
   "execution_count": 67,
   "metadata": {},
   "outputs": [
    {
     "name": "stdout",
     "output_type": "stream",
     "text": [
      "SVC(C=0.1, break_ties=False, cache_size=200, class_weight=None, coef0=0.0,\n",
      "    decision_function_shape='ovr', degree=3, gamma='auto', kernel='poly',\n",
      "    max_iter=-1, probability=False, random_state=None, shrinking=True,\n",
      "    tol=0.001, verbose=False)\n",
      "Model Training accuracy is:  0.2013888888888889\n",
      "Model Testing accuracy is:  0.11666666666666667\n",
      "micro acc,prec,rec,f1: \t0.117\t0.117\t0.117\t0.117\n",
      "macro prec,rec,f1: \t0.023\t0.2\t0.042\n",
      "Confusion Matrix is:  [[  0   0 123   0   0]\n",
      " [  0   0  26   0   0]\n",
      " [  0   0  21   0   0]\n",
      " [  0   0   7   0   0]\n",
      " [  0   0   3   0   0]]\n"
     ]
    }
   ],
   "source": [
    "svm = SVC(kernel='poly', C=0.1, gamma='auto', probability=False) #faster when probability = False\n",
    "\n",
    "# fit model\n",
    "svm.fit(xTrain, yTrain)\n",
    "print(svm)\n",
    "\n",
    "generate_results(xTrain, yTrain, xTest, yTest, train_flag = True)"
   ]
  },
  {
   "cell_type": "code",
   "execution_count": 57,
   "metadata": {},
   "outputs": [
    {
     "name": "stdout",
     "output_type": "stream",
     "text": [
      "SVC(C=1, break_ties=False, cache_size=200, class_weight=None, coef0=0.0,\n",
      "    decision_function_shape='ovr', degree=3, gamma='auto', kernel='linear',\n",
      "    max_iter=-1, probability=False, random_state=None, shrinking=True,\n",
      "    tol=0.001, verbose=False)\n",
      "Model Training accuracy is:  1.0\n",
      "Model Testing accuracy is:  0.2875\n",
      "micro acc,prec,rec,f1: \t0.288\t0.288\t0.288\t0.288\n",
      "macro prec,rec,f1: \t0.204\t0.329\t0.171\n",
      "Confusion Matrix is:  [[19 17  7  9  9]\n",
      " [ 5  2  0  2  0]\n",
      " [ 3  1  1  3  1]\n",
      " [ 0  0  0  0  0]\n",
      " [ 0  0  0  0  1]]\n"
     ]
    }
   ],
   "source": [
    "svm = SVC(kernel='linear', C=1, gamma='auto', probability=False) #faster when probability = False\n",
    "\n",
    "# fit model\n",
    "svm.fit(xTrain, yTrain)\n",
    "print(svm)\n",
    "\n",
    "generate_results(xTrain, yTrain, xTest, yTest, train_flag = True)"
   ]
  },
  {
   "cell_type": "code",
   "execution_count": 58,
   "metadata": {},
   "outputs": [
    {
     "name": "stdout",
     "output_type": "stream",
     "text": [
      "SVC(C=0.5, break_ties=False, cache_size=200, class_weight=None, coef0=0.0,\n",
      "    decision_function_shape='ovr', degree=3, gamma='auto', kernel='linear',\n",
      "    max_iter=-1, probability=False, random_state=None, shrinking=True,\n",
      "    tol=0.001, verbose=False)\n",
      "Model Training accuracy is:  1.0\n",
      "Model Testing accuracy is:  0.2875\n",
      "micro acc,prec,rec,f1: \t0.288\t0.288\t0.288\t0.288\n",
      "macro prec,rec,f1: \t0.204\t0.329\t0.171\n",
      "Confusion Matrix is:  [[19 17  7  9  9]\n",
      " [ 5  2  0  2  0]\n",
      " [ 3  1  1  3  1]\n",
      " [ 0  0  0  0  0]\n",
      " [ 0  0  0  0  1]]\n"
     ]
    }
   ],
   "source": [
    "svm = SVC(kernel='linear', C=0.5, gamma='auto', probability=False) #faster when probability = False\n",
    "\n",
    "# fit model\n",
    "svm.fit(xTrain, yTrain)\n",
    "print(svm)\n",
    "\n",
    "generate_results(xTrain, yTrain, xTest, yTest, train_flag = True)"
   ]
  },
  {
   "cell_type": "code",
   "execution_count": 59,
   "metadata": {},
   "outputs": [
    {
     "name": "stdout",
     "output_type": "stream",
     "text": [
      "SVC(C=0.1, break_ties=False, cache_size=200, class_weight=None, coef0=0.0,\n",
      "    decision_function_shape='ovr', degree=3, gamma='auto', kernel='linear',\n",
      "    max_iter=-1, probability=False, random_state=None, shrinking=True,\n",
      "    tol=0.001, verbose=False)\n",
      "Model Training accuracy is:  0.996875\n",
      "Model Testing accuracy is:  0.2875\n",
      "micro acc,prec,rec,f1: \t0.288\t0.288\t0.288\t0.288\n",
      "macro prec,rec,f1: \t0.207\t0.329\t0.172\n",
      "Confusion Matrix is:  [[19 17  6 10  9]\n",
      " [ 5  2  0  2  0]\n",
      " [ 3  1  1  3  1]\n",
      " [ 0  0  0  0  0]\n",
      " [ 0  0  0  0  1]]\n"
     ]
    }
   ],
   "source": [
    "svm = SVC(kernel='linear', C=0.1, gamma='auto', probability=False) #faster when probability = False\n",
    "\n",
    "# fit model\n",
    "svm.fit(xTrain, yTrain)\n",
    "print(svm)\n",
    "\n",
    "generate_results(xTrain, yTrain, xTest, yTest, train_flag = True)"
   ]
  },
  {
   "cell_type": "code",
   "execution_count": null,
   "metadata": {},
   "outputs": [],
   "source": []
  },
  {
   "cell_type": "code",
   "execution_count": null,
   "metadata": {},
   "outputs": [],
   "source": []
  }
 ],
 "metadata": {
  "kernelspec": {
   "display_name": "Python 3",
   "language": "python",
   "name": "python3"
  },
  "language_info": {
   "codemirror_mode": {
    "name": "ipython",
    "version": 3
   },
   "file_extension": ".py",
   "mimetype": "text/x-python",
   "name": "python",
   "nbconvert_exporter": "python",
   "pygments_lexer": "ipython3",
   "version": "3.7.6"
  }
 },
 "nbformat": 4,
 "nbformat_minor": 5
}
